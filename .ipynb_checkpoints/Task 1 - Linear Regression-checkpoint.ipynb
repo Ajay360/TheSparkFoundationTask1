{
 "cells": [
  {
   "cell_type": "code",
   "execution_count": null,
   "metadata": {},
   "outputs": [],
   "source": [
    "# Task 1 - Prediction using Supervised ML\n",
    "\n",
    "## Submitted By:Ajay S\n",
    "\n",
    "### To predict the percentage of marks that a student is likely to score based on the number of study hours."
   ]
  }
 ],
 "metadata": {
  "kernelspec": {
   "display_name": "Python 3",
   "language": "python",
   "name": "python3"
  },
  "language_info": {
   "codemirror_mode": {
    "name": "ipython",
    "version": 3
   },
   "file_extension": ".py",
   "mimetype": "text/x-python",
   "name": "python",
   "nbconvert_exporter": "python",
   "pygments_lexer": "ipython3",
   "version": "3.7.6"
  }
 },
 "nbformat": 4,
 "nbformat_minor": 4
}
